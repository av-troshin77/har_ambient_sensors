{
 "cells": [
  {
   "cell_type": "markdown",
   "metadata": {},
   "source": [
    "# CNN on GPU for HAR with Ambient Sensors (GPU!)"
   ]
  },
  {
   "cell_type": "markdown",
   "metadata": {},
   "source": [
    "## 1. Load the data"
   ]
  },
  {
   "cell_type": "code",
   "execution_count": 1,
   "metadata": {},
   "outputs": [],
   "source": [
    "import pandas as pd\n",
    "import numpy as np\n",
    "from sklearn import preprocessing\n",
    "from sklearn.model_selection import train_test_split\n",
    "from sklearn.metrics import classification_report\n",
    "from sklearn.metrics import matthews_corrcoef\n",
    "import tensorflow as tf\n",
    "from tensorflow.keras.models import Sequential\n",
    "from tensorflow.keras.layers import Dense, Conv1D, MaxPooling1D, Flatten\n",
    "import matplotlib.pyplot as plt"
   ]
  },
  {
   "cell_type": "code",
   "execution_count": 2,
   "metadata": {},
   "outputs": [],
   "source": [
    "# try to fix tensorflow gpu problems\n",
    "from tensorflow.compat.v1 import ConfigProto\n",
    "from tensorflow.compat.v1 import InteractiveSession\n",
    "config = ConfigProto()\n",
    "config.gpu_options.allow_growth = True\n",
    "session = InteractiveSession(config=config)"
   ]
  },
  {
   "cell_type": "code",
   "execution_count": 3,
   "metadata": {},
   "outputs": [
    {
     "name": "stdout",
     "output_type": "stream",
     "text": [
      "1\n",
      "True\n",
      "True\n",
      "/device:GPU:0\n"
     ]
    }
   ],
   "source": [
    "# check gpu support\n",
    "gpus = tf.config.list_physical_devices('GPU')\n",
    "print(len(gpus))\n",
    "print(tf.test.is_built_with_gpu_support())\n",
    "print(tf.test.is_built_with_cuda())\n",
    "print(tf.test.gpu_device_name())"
   ]
  },
  {
   "cell_type": "code",
   "execution_count": 4,
   "metadata": {},
   "outputs": [
    {
     "data": {
      "text/html": [
       "<div>\n",
       "<style scoped>\n",
       "    .dataframe tbody tr th:only-of-type {\n",
       "        vertical-align: middle;\n",
       "    }\n",
       "\n",
       "    .dataframe tbody tr th {\n",
       "        vertical-align: top;\n",
       "    }\n",
       "\n",
       "    .dataframe thead th {\n",
       "        text-align: right;\n",
       "    }\n",
       "</style>\n",
       "<table border=\"1\" class=\"dataframe\">\n",
       "  <thead>\n",
       "    <tr style=\"text-align: right;\">\n",
       "      <th></th>\n",
       "      <th>lastSensorEventHours</th>\n",
       "      <th>lastSensorEventSeconds</th>\n",
       "      <th>lastSensorDayOfWeek</th>\n",
       "      <th>windowDuration</th>\n",
       "      <th>timeSinceLastSensorEvent</th>\n",
       "      <th>prevDominantSensor1</th>\n",
       "      <th>prevDominantSensor2</th>\n",
       "      <th>lastSensorID</th>\n",
       "      <th>lastSensorLocation</th>\n",
       "      <th>lastMotionLocation</th>\n",
       "      <th>...</th>\n",
       "      <th>sensorElTime-Chair</th>\n",
       "      <th>sensorElTime-DiningRoom</th>\n",
       "      <th>sensorElTime-Hall</th>\n",
       "      <th>sensorElTime-Ignore</th>\n",
       "      <th>sensorElTime-Kitchen</th>\n",
       "      <th>sensorElTime-LivingRoom</th>\n",
       "      <th>sensorElTime-Office</th>\n",
       "      <th>sensorElTime-OutsideDoor</th>\n",
       "      <th>sensorElTime-WorkArea</th>\n",
       "      <th>activity</th>\n",
       "    </tr>\n",
       "  </thead>\n",
       "  <tbody>\n",
       "    <tr>\n",
       "      <th>0</th>\n",
       "      <td>3.0</td>\n",
       "      <td>11131.0</td>\n",
       "      <td>2.0</td>\n",
       "      <td>10942.0</td>\n",
       "      <td>590.0</td>\n",
       "      <td>0.0</td>\n",
       "      <td>0.0</td>\n",
       "      <td>1.0</td>\n",
       "      <td>1.0</td>\n",
       "      <td>1.0</td>\n",
       "      <td>...</td>\n",
       "      <td>86400.0</td>\n",
       "      <td>86400.0</td>\n",
       "      <td>86400.0</td>\n",
       "      <td>590.491697</td>\n",
       "      <td>86400.0</td>\n",
       "      <td>86400.0</td>\n",
       "      <td>86400.0</td>\n",
       "      <td>86400.0</td>\n",
       "      <td>86400.0</td>\n",
       "      <td>Sleep</td>\n",
       "    </tr>\n",
       "    <tr>\n",
       "      <th>1</th>\n",
       "      <td>3.0</td>\n",
       "      <td>11132.0</td>\n",
       "      <td>2.0</td>\n",
       "      <td>10068.0</td>\n",
       "      <td>1.0</td>\n",
       "      <td>0.0</td>\n",
       "      <td>0.0</td>\n",
       "      <td>1.0</td>\n",
       "      <td>1.0</td>\n",
       "      <td>1.0</td>\n",
       "      <td>...</td>\n",
       "      <td>86400.0</td>\n",
       "      <td>86400.0</td>\n",
       "      <td>86400.0</td>\n",
       "      <td>591.597136</td>\n",
       "      <td>86400.0</td>\n",
       "      <td>86400.0</td>\n",
       "      <td>86400.0</td>\n",
       "      <td>86400.0</td>\n",
       "      <td>86400.0</td>\n",
       "      <td>Sleep</td>\n",
       "    </tr>\n",
       "    <tr>\n",
       "      <th>2</th>\n",
       "      <td>3.0</td>\n",
       "      <td>11141.0</td>\n",
       "      <td>2.0</td>\n",
       "      <td>9752.0</td>\n",
       "      <td>9.0</td>\n",
       "      <td>0.0</td>\n",
       "      <td>0.0</td>\n",
       "      <td>5.0</td>\n",
       "      <td>5.0</td>\n",
       "      <td>1.0</td>\n",
       "      <td>...</td>\n",
       "      <td>86400.0</td>\n",
       "      <td>86400.0</td>\n",
       "      <td>86400.0</td>\n",
       "      <td>0.000000</td>\n",
       "      <td>86400.0</td>\n",
       "      <td>86400.0</td>\n",
       "      <td>86400.0</td>\n",
       "      <td>86400.0</td>\n",
       "      <td>86400.0</td>\n",
       "      <td>Sleep</td>\n",
       "    </tr>\n",
       "    <tr>\n",
       "      <th>3</th>\n",
       "      <td>3.0</td>\n",
       "      <td>11588.0</td>\n",
       "      <td>2.0</td>\n",
       "      <td>9324.0</td>\n",
       "      <td>447.0</td>\n",
       "      <td>0.0</td>\n",
       "      <td>0.0</td>\n",
       "      <td>5.0</td>\n",
       "      <td>5.0</td>\n",
       "      <td>1.0</td>\n",
       "      <td>...</td>\n",
       "      <td>86400.0</td>\n",
       "      <td>86400.0</td>\n",
       "      <td>86400.0</td>\n",
       "      <td>0.000000</td>\n",
       "      <td>86400.0</td>\n",
       "      <td>86400.0</td>\n",
       "      <td>86400.0</td>\n",
       "      <td>86400.0</td>\n",
       "      <td>86400.0</td>\n",
       "      <td>Sleep</td>\n",
       "    </tr>\n",
       "    <tr>\n",
       "      <th>4</th>\n",
       "      <td>3.0</td>\n",
       "      <td>11740.0</td>\n",
       "      <td>2.0</td>\n",
       "      <td>9151.0</td>\n",
       "      <td>152.0</td>\n",
       "      <td>0.0</td>\n",
       "      <td>0.0</td>\n",
       "      <td>5.0</td>\n",
       "      <td>5.0</td>\n",
       "      <td>1.0</td>\n",
       "      <td>...</td>\n",
       "      <td>86400.0</td>\n",
       "      <td>86400.0</td>\n",
       "      <td>86400.0</td>\n",
       "      <td>0.000000</td>\n",
       "      <td>86400.0</td>\n",
       "      <td>86400.0</td>\n",
       "      <td>86400.0</td>\n",
       "      <td>86400.0</td>\n",
       "      <td>86400.0</td>\n",
       "      <td>Sleep</td>\n",
       "    </tr>\n",
       "  </tbody>\n",
       "</table>\n",
       "<p>5 rows × 37 columns</p>\n",
       "</div>"
      ],
      "text/plain": [
       "   lastSensorEventHours  lastSensorEventSeconds  lastSensorDayOfWeek  \\\n",
       "0                   3.0                 11131.0                  2.0   \n",
       "1                   3.0                 11132.0                  2.0   \n",
       "2                   3.0                 11141.0                  2.0   \n",
       "3                   3.0                 11588.0                  2.0   \n",
       "4                   3.0                 11740.0                  2.0   \n",
       "\n",
       "   windowDuration  timeSinceLastSensorEvent  prevDominantSensor1  \\\n",
       "0         10942.0                     590.0                  0.0   \n",
       "1         10068.0                       1.0                  0.0   \n",
       "2          9752.0                       9.0                  0.0   \n",
       "3          9324.0                     447.0                  0.0   \n",
       "4          9151.0                     152.0                  0.0   \n",
       "\n",
       "   prevDominantSensor2  lastSensorID  lastSensorLocation  lastMotionLocation  \\\n",
       "0                  0.0           1.0                 1.0                 1.0   \n",
       "1                  0.0           1.0                 1.0                 1.0   \n",
       "2                  0.0           5.0                 5.0                 1.0   \n",
       "3                  0.0           5.0                 5.0                 1.0   \n",
       "4                  0.0           5.0                 5.0                 1.0   \n",
       "\n",
       "   ...  sensorElTime-Chair  sensorElTime-DiningRoom  sensorElTime-Hall  \\\n",
       "0  ...             86400.0                  86400.0            86400.0   \n",
       "1  ...             86400.0                  86400.0            86400.0   \n",
       "2  ...             86400.0                  86400.0            86400.0   \n",
       "3  ...             86400.0                  86400.0            86400.0   \n",
       "4  ...             86400.0                  86400.0            86400.0   \n",
       "\n",
       "   sensorElTime-Ignore  sensorElTime-Kitchen  sensorElTime-LivingRoom  \\\n",
       "0           590.491697               86400.0                  86400.0   \n",
       "1           591.597136               86400.0                  86400.0   \n",
       "2             0.000000               86400.0                  86400.0   \n",
       "3             0.000000               86400.0                  86400.0   \n",
       "4             0.000000               86400.0                  86400.0   \n",
       "\n",
       "   sensorElTime-Office  sensorElTime-OutsideDoor  sensorElTime-WorkArea  \\\n",
       "0              86400.0                   86400.0                86400.0   \n",
       "1              86400.0                   86400.0                86400.0   \n",
       "2              86400.0                   86400.0                86400.0   \n",
       "3              86400.0                   86400.0                86400.0   \n",
       "4              86400.0                   86400.0                86400.0   \n",
       "\n",
       "   activity  \n",
       "0     Sleep  \n",
       "1     Sleep  \n",
       "2     Sleep  \n",
       "3     Sleep  \n",
       "4     Sleep  \n",
       "\n",
       "[5 rows x 37 columns]"
      ]
     },
     "execution_count": 4,
     "metadata": {},
     "output_type": "execute_result"
    }
   ],
   "source": [
    "filename = 'csh110'\n",
    "# globalpath ='/media/alex/Data/Datasets_for_ML/HAR/casas-dataset/'\n",
    "globalpath ='/casas-dataset/' # for docker ml path!\n",
    "filepath = globalpath + filename + '/' + filename + '.ann.features.csv' \n",
    "# filepath = '/media/alex/Data/Datasets_for_ML/HAR/casas-dataset/csh101/csh101.ann.features.csv'\n",
    "df = pd.read_csv(filepath)\n",
    "df.head(5)"
   ]
  },
  {
   "cell_type": "code",
   "execution_count": 5,
   "metadata": {},
   "outputs": [
    {
     "name": "stdout",
     "output_type": "stream",
     "text": [
      "(136716, 37)\n"
     ]
    }
   ],
   "source": [
    "print(df.shape)"
   ]
  },
  {
   "cell_type": "markdown",
   "metadata": {},
   "source": [
    "## 2. Inspect Data"
   ]
  },
  {
   "cell_type": "markdown",
   "metadata": {},
   "source": [
    "### 2.1 Data description"
   ]
  },
  {
   "cell_type": "markdown",
   "metadata": {},
   "source": [
    "**lastSensorEventHours:** (integer)  Hour of the day, in local time (min= 0.0, max=23.0)  \n",
    "**lastSensorEventSeconds (decimal):** Seconds since midnight, in local time (count = 407481 min=1.0 max=86395.0)  \n",
    "**lastSensorDayOfWeek (symbolic-valued integer):**  Integer day of the week, in local time (count=407481, min=0.0 max=6.0)  \n",
    "**windowDuration (decimal):**  Time duration of the 30 event sliding window in seconds. count=407481, min=7.0 max=39269.0)  \n",
    "**timeSinceLastSensorEvent (decimal):**  Seconds since the last sensor event. count = 407481 min=0.0 max=32855.0)  \n",
    "**prevDominantSensor1 (symbolic-valued integer):**  Dominant sensor ID from the previous window. (count = 407481 min=0.0 max=10.0)  \n",
    "**prevDominantSensor2 (symbolic-valued integer):**  Dominant sensor ID from the second previous window. (count=407481 min=0.0 max=10.0)  \n",
    "**lastSensorID (symbolic-valued integer):**  Last sensor ID in the window. (count=407481 min=0.0 max=10.0)  \n",
    "**lastSensorLocation (symbolic-valued integer):**  Last sensor location ID in the window. (count=407481 min=0.0 max=10.0)   \n",
    "**lastMotionLocation (symbolic-valued integer):**  Last motion sensor location ID in the window, can be -1 if none within the sliding window. (count =407481 min=-1.0 max=10.0)  \n",
    "**sensorElTime-Chair (decimal):** The number of seconds since this sensor was last seen, up to a maximum of 86400. (count=407481 min=86400.0    max=86400.0)  \n",
    "**sensorElTime-DiningRoom (decimal):** The number of seconds since this sensor was last seen, up to a maximum of 86400. (count=407481 min=0.0  max=86400.0)  \n",
    "**sensorElTime-Hall (decimal):** The number of seconds since this sensor was last seen, up to a maximum of 86400. (count=407481 min=86400.0 max =86400.0)  \n",
    "**sensorElTime-Ignore (decimal):** The number of seconds since this sensor was last seen, up to a maximum of 86400.  \n",
    "**sensorElTime-Kitchen (decimal):** The number of seconds since this sensor was last seen, up to a maximum of 86400.  \n",
    "**sensorElTime-LivingRoom (decimal):** The number of seconds since this sensor was last seen, up to a maximum of 86400.    \n",
    "**sensorElTime-Office (decimal):** The number of seconds since this sensor was last seen, up to a maximum of 86400.  \n",
    "**sensorElTime-OutsideDoor (decimal):**  The number of seconds since this sensor was last seen, up to a maximum of 86400.  \n",
    "**sensorElTime-WorkArea (decimal):** The number of seconds since this sensor was last seen, up to a maximum of 86400.  \n",
    "**activity (class label):**  The annotated activity that is currently being observed. \n",
    "    unique values:  \\[ 'Bathe' 'Bed_Toilet_Transition' 'Cook' 'Cook_Breakfast' 'Cook_Dinner'\n",
    " 'Cook_Lunch' 'Dress' 'Drink' 'Eat' 'Eat_Breakfast' 'Eat_Dinner'\n",
    " 'Eat_Lunch' 'Enter_Home' 'Entertain_Guests' 'Groom' 'Leave_Home'\n",
    " 'Morning_Meds' 'Other_Activity' 'Personal_Hygiene' 'Phone' 'Read' 'Relax'\n",
    " 'Sleep' 'Sleep_Out_Of_Bed' 'Step_Out' 'Take_Medicine' 'Toilet'\n",
    " 'Wash_Breakfast_Dishes' 'Wash_Dinner_Dishes' 'Wash_Dishes'\n",
    " 'Wash_Lunch_Dishes' 'Watch_TV' 'Work' 'Work_At_Table'\\]"
   ]
  },
  {
   "cell_type": "code",
   "execution_count": 6,
   "metadata": {},
   "outputs": [
    {
     "data": {
      "image/png": "[encoded data removed]",
      "text/plain": [
       "<Figure size 432x288 with 1 Axes>"
      ]
     },
     "metadata": {},
     "output_type": "display_data"
    }
   ],
   "source": [
    "%matplotlib inline\n",
    "plt.style.use('ggplot')\n",
    "df['activity'].value_counts().plot(kind='bar',\n",
    "                                   title='Training Examples by Activity Type')\n",
    "plt.show()"
   ]
  },
  {
   "cell_type": "code",
   "execution_count": 7,
   "metadata": {},
   "outputs": [
    {
     "data": {
      "text/plain": [
       "Other_Activity           0.309115\n",
       "Entertain_Guests         0.111648\n",
       "Dress                    0.083926\n",
       "Sleep                    0.073510\n",
       "Relax                    0.048341\n",
       "Work_At_Table            0.046527\n",
       "Watch_TV                 0.045679\n",
       "Groom                    0.036002\n",
       "Personal_Hygiene         0.033654\n",
       "Toilet                   0.027063\n",
       "Cook_Breakfast           0.020063\n",
       "Take_Medicine            0.019061\n",
       "Drink                    0.017942\n",
       "Work_On_Computer         0.016545\n",
       "Evening_Meds             0.014775\n",
       "Read                     0.014585\n",
       "Wash_Breakfast_Dishes    0.011959\n",
       "Wash_Dishes              0.011498\n",
       "Morning_Meds             0.010474\n",
       "Phone                    0.009787\n",
       "Bed_Toilet_Transition    0.009428\n",
       "Eat_Breakfast            0.006027\n",
       "Enter_Home               0.005603\n",
       "Leave_Home               0.005588\n",
       "Cook                     0.003606\n",
       "Bathe                    0.001902\n",
       "Cook_Dinner              0.001565\n",
       "Eat                      0.001521\n",
       "Step_Out                 0.000966\n",
       "Sleep_Out_Of_Bed         0.000914\n",
       "Eat_Dinner               0.000549\n",
       "Wash_Dinner_Dishes       0.000176\n",
       "Name: activity, dtype: float64"
      ]
     },
     "execution_count": 7,
     "metadata": {},
     "output_type": "execute_result"
    }
   ],
   "source": [
    "df['activity'].value_counts(normalize=True)"
   ]
  },
  {
   "cell_type": "code",
   "execution_count": 8,
   "metadata": {},
   "outputs": [
    {
     "name": "stdout",
     "output_type": "stream",
     "text": [
      "<class 'pandas.core.frame.DataFrame'>\n",
      "RangeIndex: 136716 entries, 0 to 136715\n",
      "Data columns (total 37 columns):\n",
      " #   Column                    Non-Null Count   Dtype  \n",
      "---  ------                    --------------   -----  \n",
      " 0   lastSensorEventHours      136716 non-null  float64\n",
      " 1   lastSensorEventSeconds    136716 non-null  float64\n",
      " 2   lastSensorDayOfWeek       136716 non-null  float64\n",
      " 3   windowDuration            136716 non-null  float64\n",
      " 4   timeSinceLastSensorEvent  136716 non-null  float64\n",
      " 5   prevDominantSensor1       136716 non-null  float64\n",
      " 6   prevDominantSensor2       136716 non-null  float64\n",
      " 7   lastSensorID              136716 non-null  float64\n",
      " 8   lastSensorLocation        136716 non-null  float64\n",
      " 9   lastMotionLocation        136716 non-null  float64\n",
      " 10  complexity                136716 non-null  float64\n",
      " 11  activityChange            136716 non-null  float64\n",
      " 12  areaTransitions           136716 non-null  float64\n",
      " 13  numDistinctSensors        136716 non-null  float64\n",
      " 14  sensorCount-Bathroom      136716 non-null  float64\n",
      " 15  sensorCount-Bedroom       136716 non-null  float64\n",
      " 16  sensorCount-Chair         136716 non-null  float64\n",
      " 17  sensorCount-DiningRoom    136716 non-null  float64\n",
      " 18  sensorCount-Hall          136716 non-null  float64\n",
      " 19  sensorCount-Ignore        136716 non-null  float64\n",
      " 20  sensorCount-Kitchen       136716 non-null  float64\n",
      " 21  sensorCount-LivingRoom    136716 non-null  float64\n",
      " 22  sensorCount-Office        136716 non-null  float64\n",
      " 23  sensorCount-OutsideDoor   136716 non-null  float64\n",
      " 24  sensorCount-WorkArea      136716 non-null  float64\n",
      " 25  sensorElTime-Bathroom     136716 non-null  float64\n",
      " 26  sensorElTime-Bedroom      136716 non-null  float64\n",
      " 27  sensorElTime-Chair        136716 non-null  float64\n",
      " 28  sensorElTime-DiningRoom   136716 non-null  float64\n",
      " 29  sensorElTime-Hall         136716 non-null  float64\n",
      " 30  sensorElTime-Ignore       136716 non-null  float64\n",
      " 31  sensorElTime-Kitchen      136716 non-null  float64\n",
      " 32  sensorElTime-LivingRoom   136716 non-null  float64\n",
      " 33  sensorElTime-Office       136716 non-null  float64\n",
      " 34  sensorElTime-OutsideDoor  136716 non-null  float64\n",
      " 35  sensorElTime-WorkArea     136716 non-null  float64\n",
      " 36  activity                  136716 non-null  object \n",
      "dtypes: float64(36), object(1)\n",
      "memory usage: 38.6+ MB\n"
     ]
    }
   ],
   "source": [
    "df.info()"
   ]
  },
  {
   "cell_type": "markdown",
   "metadata": {},
   "source": [
    "## Drop Rare Activities"
   ]
  },
  {
   "cell_type": "code",
   "execution_count": 9,
   "metadata": {},
   "outputs": [
    {
     "data": {
      "text/plain": [
       "Other_Activity      42261\n",
       "Entertain_Guests    15264\n",
       "Dress               11474\n",
       "Sleep               10050\n",
       "Relax                6609\n",
       "Work_At_Table        6361\n",
       "Watch_TV             6245\n",
       "Groom                4922\n",
       "Personal_Hygiene     4601\n",
       "Toilet               3700\n",
       "Cook_Breakfast       2743\n",
       "Name: activity, dtype: int64"
      ]
     },
     "execution_count": 9,
     "metadata": {},
     "output_type": "execute_result"
    }
   ],
   "source": [
    "# get the count of each value\n",
    "value_counts = df['activity'].value_counts()\n",
    "# select the values where the count less than 2%\n",
    "threshhold = int(2*len(df['activity'])/100)\n",
    "# remove rows where counts less than threshhold\n",
    "to_remove = value_counts[value_counts <= threshhold].index\n",
    "# keep other rows\n",
    "df = df[~df.activity.isin(to_remove)]\n",
    "df['activity'].value_counts(normalize=False)"
   ]
  },
  {
   "cell_type": "markdown",
   "metadata": {},
   "source": [
    "## Encode Data"
   ]
  },
  {
   "cell_type": "code",
   "execution_count": 10,
   "metadata": {},
   "outputs": [
    {
     "data": {
      "text/html": [
       "<div>\n",
       "<style scoped>\n",
       "    .dataframe tbody tr th:only-of-type {\n",
       "        vertical-align: middle;\n",
       "    }\n",
       "\n",
       "    .dataframe tbody tr th {\n",
       "        vertical-align: top;\n",
       "    }\n",
       "\n",
       "    .dataframe thead th {\n",
       "        text-align: right;\n",
       "    }\n",
       "</style>\n",
       "<table border=\"1\" class=\"dataframe\">\n",
       "  <thead>\n",
       "    <tr style=\"text-align: right;\">\n",
       "      <th></th>\n",
       "      <th>lastSensorEventHours</th>\n",
       "      <th>lastSensorEventSeconds</th>\n",
       "      <th>lastSensorDayOfWeek</th>\n",
       "      <th>windowDuration</th>\n",
       "      <th>timeSinceLastSensorEvent</th>\n",
       "      <th>prevDominantSensor1</th>\n",
       "      <th>prevDominantSensor2</th>\n",
       "      <th>lastSensorID</th>\n",
       "      <th>lastSensorLocation</th>\n",
       "      <th>lastMotionLocation</th>\n",
       "      <th>...</th>\n",
       "      <th>sensorElTime-DiningRoom</th>\n",
       "      <th>sensorElTime-Hall</th>\n",
       "      <th>sensorElTime-Ignore</th>\n",
       "      <th>sensorElTime-Kitchen</th>\n",
       "      <th>sensorElTime-LivingRoom</th>\n",
       "      <th>sensorElTime-Office</th>\n",
       "      <th>sensorElTime-OutsideDoor</th>\n",
       "      <th>sensorElTime-WorkArea</th>\n",
       "      <th>activity</th>\n",
       "      <th>ActivityEncoded</th>\n",
       "    </tr>\n",
       "  </thead>\n",
       "  <tbody>\n",
       "    <tr>\n",
       "      <th>0</th>\n",
       "      <td>3.0</td>\n",
       "      <td>11131.0</td>\n",
       "      <td>2.0</td>\n",
       "      <td>10942.0</td>\n",
       "      <td>590.0</td>\n",
       "      <td>0.0</td>\n",
       "      <td>0.0</td>\n",
       "      <td>1.0</td>\n",
       "      <td>1.0</td>\n",
       "      <td>1.0</td>\n",
       "      <td>...</td>\n",
       "      <td>86400.0</td>\n",
       "      <td>86400.0</td>\n",
       "      <td>590.491697</td>\n",
       "      <td>86400.0</td>\n",
       "      <td>86400.0</td>\n",
       "      <td>86400.0</td>\n",
       "      <td>86400.0</td>\n",
       "      <td>86400.0</td>\n",
       "      <td>Sleep</td>\n",
       "      <td>7</td>\n",
       "    </tr>\n",
       "    <tr>\n",
       "      <th>1</th>\n",
       "      <td>3.0</td>\n",
       "      <td>11132.0</td>\n",
       "      <td>2.0</td>\n",
       "      <td>10068.0</td>\n",
       "      <td>1.0</td>\n",
       "      <td>0.0</td>\n",
       "      <td>0.0</td>\n",
       "      <td>1.0</td>\n",
       "      <td>1.0</td>\n",
       "      <td>1.0</td>\n",
       "      <td>...</td>\n",
       "      <td>86400.0</td>\n",
       "      <td>86400.0</td>\n",
       "      <td>591.597136</td>\n",
       "      <td>86400.0</td>\n",
       "      <td>86400.0</td>\n",
       "      <td>86400.0</td>\n",
       "      <td>86400.0</td>\n",
       "      <td>86400.0</td>\n",
       "      <td>Sleep</td>\n",
       "      <td>7</td>\n",
       "    </tr>\n",
       "    <tr>\n",
       "      <th>2</th>\n",
       "      <td>3.0</td>\n",
       "      <td>11141.0</td>\n",
       "      <td>2.0</td>\n",
       "      <td>9752.0</td>\n",
       "      <td>9.0</td>\n",
       "      <td>0.0</td>\n",
       "      <td>0.0</td>\n",
       "      <td>5.0</td>\n",
       "      <td>5.0</td>\n",
       "      <td>1.0</td>\n",
       "      <td>...</td>\n",
       "      <td>86400.0</td>\n",
       "      <td>86400.0</td>\n",
       "      <td>0.000000</td>\n",
       "      <td>86400.0</td>\n",
       "      <td>86400.0</td>\n",
       "      <td>86400.0</td>\n",
       "      <td>86400.0</td>\n",
       "      <td>86400.0</td>\n",
       "      <td>Sleep</td>\n",
       "      <td>7</td>\n",
       "    </tr>\n",
       "    <tr>\n",
       "      <th>3</th>\n",
       "      <td>3.0</td>\n",
       "      <td>11588.0</td>\n",
       "      <td>2.0</td>\n",
       "      <td>9324.0</td>\n",
       "      <td>447.0</td>\n",
       "      <td>0.0</td>\n",
       "      <td>0.0</td>\n",
       "      <td>5.0</td>\n",
       "      <td>5.0</td>\n",
       "      <td>1.0</td>\n",
       "      <td>...</td>\n",
       "      <td>86400.0</td>\n",
       "      <td>86400.0</td>\n",
       "      <td>0.000000</td>\n",
       "      <td>86400.0</td>\n",
       "      <td>86400.0</td>\n",
       "      <td>86400.0</td>\n",
       "      <td>86400.0</td>\n",
       "      <td>86400.0</td>\n",
       "      <td>Sleep</td>\n",
       "      <td>7</td>\n",
       "    </tr>\n",
       "    <tr>\n",
       "      <th>4</th>\n",
       "      <td>3.0</td>\n",
       "      <td>11740.0</td>\n",
       "      <td>2.0</td>\n",
       "      <td>9151.0</td>\n",
       "      <td>152.0</td>\n",
       "      <td>0.0</td>\n",
       "      <td>0.0</td>\n",
       "      <td>5.0</td>\n",
       "      <td>5.0</td>\n",
       "      <td>1.0</td>\n",
       "      <td>...</td>\n",
       "      <td>86400.0</td>\n",
       "      <td>86400.0</td>\n",
       "      <td>0.000000</td>\n",
       "      <td>86400.0</td>\n",
       "      <td>86400.0</td>\n",
       "      <td>86400.0</td>\n",
       "      <td>86400.0</td>\n",
       "      <td>86400.0</td>\n",
       "      <td>Sleep</td>\n",
       "      <td>7</td>\n",
       "    </tr>\n",
       "  </tbody>\n",
       "</table>\n",
       "<p>5 rows × 38 columns</p>\n",
       "</div>"
      ],
      "text/plain": [
       "   lastSensorEventHours  lastSensorEventSeconds  lastSensorDayOfWeek  \\\n",
       "0                   3.0                 11131.0                  2.0   \n",
       "1                   3.0                 11132.0                  2.0   \n",
       "2                   3.0                 11141.0                  2.0   \n",
       "3                   3.0                 11588.0                  2.0   \n",
       "4                   3.0                 11740.0                  2.0   \n",
       "\n",
       "   windowDuration  timeSinceLastSensorEvent  prevDominantSensor1  \\\n",
       "0         10942.0                     590.0                  0.0   \n",
       "1         10068.0                       1.0                  0.0   \n",
       "2          9752.0                       9.0                  0.0   \n",
       "3          9324.0                     447.0                  0.0   \n",
       "4          9151.0                     152.0                  0.0   \n",
       "\n",
       "   prevDominantSensor2  lastSensorID  lastSensorLocation  lastMotionLocation  \\\n",
       "0                  0.0           1.0                 1.0                 1.0   \n",
       "1                  0.0           1.0                 1.0                 1.0   \n",
       "2                  0.0           5.0                 5.0                 1.0   \n",
       "3                  0.0           5.0                 5.0                 1.0   \n",
       "4                  0.0           5.0                 5.0                 1.0   \n",
       "\n",
       "   ...  sensorElTime-DiningRoom  sensorElTime-Hall  sensorElTime-Ignore  \\\n",
       "0  ...                  86400.0            86400.0           590.491697   \n",
       "1  ...                  86400.0            86400.0           591.597136   \n",
       "2  ...                  86400.0            86400.0             0.000000   \n",
       "3  ...                  86400.0            86400.0             0.000000   \n",
       "4  ...                  86400.0            86400.0             0.000000   \n",
       "\n",
       "   sensorElTime-Kitchen  sensorElTime-LivingRoom  sensorElTime-Office  \\\n",
       "0               86400.0                  86400.0              86400.0   \n",
       "1               86400.0                  86400.0              86400.0   \n",
       "2               86400.0                  86400.0              86400.0   \n",
       "3               86400.0                  86400.0              86400.0   \n",
       "4               86400.0                  86400.0              86400.0   \n",
       "\n",
       "   sensorElTime-OutsideDoor  sensorElTime-WorkArea  activity  ActivityEncoded  \n",
       "0                   86400.0                86400.0     Sleep                7  \n",
       "1                   86400.0                86400.0     Sleep                7  \n",
       "2                   86400.0                86400.0     Sleep                7  \n",
       "3                   86400.0                86400.0     Sleep                7  \n",
       "4                   86400.0                86400.0     Sleep                7  \n",
       "\n",
       "[5 rows x 38 columns]"
      ]
     },
     "execution_count": 10,
     "metadata": {},
     "output_type": "execute_result"
    }
   ],
   "source": [
    "enc = preprocessing.LabelEncoder()\n",
    "LABELS = list(df['activity'].unique())\n",
    "df['ActivityEncoded'] = enc.fit_transform(df['activity'].values.ravel())\n",
    "df.head()"
   ]
  },
  {
   "cell_type": "markdown",
   "metadata": {},
   "source": [
    "## Train-Test Split Data"
   ]
  },
  {
   "cell_type": "code",
   "execution_count": 11,
   "metadata": {},
   "outputs": [
    {
     "name": "stdout",
     "output_type": "stream",
     "text": [
      "(79961, 37)\n",
      "(34269, 37)\n"
     ]
    }
   ],
   "source": [
    "df = df.drop(columns=['activity'])\n",
    "dataset = df.values\n",
    "train_dataset, test_dataset = train_test_split(dataset,\n",
    "                                               test_size=0.3,\n",
    "                                               shuffle=False)\n",
    "\n",
    "print(train_dataset.shape)\n",
    "print(test_dataset.shape)"
   ]
  },
  {
   "cell_type": "markdown",
   "metadata": {},
   "source": [
    "## Scale Data"
   ]
  },
  {
   "cell_type": "code",
   "execution_count": 12,
   "metadata": {},
   "outputs": [
    {
     "name": "stdout",
     "output_type": "stream",
     "text": [
      "(79961, 36) (79961, 1)\n",
      "(34269, 36) (34269, 1)\n"
     ]
    }
   ],
   "source": [
    "X_train = train_dataset[:, :-1]\n",
    "Y_train = train_dataset[:, -1].reshape(-1,1)\n",
    "X_test = test_dataset[:, :-1]\n",
    "Y_test = test_dataset[:, -1].reshape(-1,1)\n",
    "print(X_train.shape, Y_train.shape)\n",
    "print(X_test.shape, Y_test.shape)"
   ]
  },
  {
   "cell_type": "code",
   "execution_count": 13,
   "metadata": {},
   "outputs": [],
   "source": [
    "scaler = preprocessing.MinMaxScaler()\n",
    "X_train = scaler.fit_transform(X_train)\n",
    "X_test = scaler.fit_transform(X_test)\n",
    "# convert to float32\n",
    "X_train = X_train.astype('float32')\n",
    "X_test = X_test.astype('float32')"
   ]
  },
  {
   "cell_type": "markdown",
   "metadata": {},
   "source": [
    "## Prepare Data for CNN"
   ]
  },
  {
   "cell_type": "code",
   "execution_count": 14,
   "metadata": {},
   "outputs": [
    {
     "name": "stdout",
     "output_type": "stream",
     "text": [
      "(79961, 11)\n",
      "(34269, 11)\n"
     ]
    }
   ],
   "source": [
    "# one-hot encoding\n",
    "y_train_hot = tf.keras.utils.to_categorical(Y_train)\n",
    "y_test_hot = tf.keras.utils.to_categorical(Y_test)\n",
    "print(y_train_hot.shape)\n",
    "print(y_test_hot.shape)"
   ]
  },
  {
   "cell_type": "markdown",
   "metadata": {},
   "source": [
    "## Create CNN"
   ]
  },
  {
   "cell_type": "code",
   "execution_count": 15,
   "metadata": {},
   "outputs": [
    {
     "name": "stdout",
     "output_type": "stream",
     "text": [
      "11\n",
      "(36, 1)\n"
     ]
    }
   ],
   "source": [
    "num_classes = enc.classes_.size\n",
    "X_train = X_train.reshape((X_train.shape[0], X_train.shape[1], 1))\n",
    "X_test = X_test.reshape((X_test.shape[0], X_test.shape[1], 1))\n",
    "input_shape = (X_train.shape[1], 1)\n",
    "print(num_classes)\n",
    "print(input_shape)"
   ]
  },
  {
   "cell_type": "code",
   "execution_count": 16,
   "metadata": {},
   "outputs": [
    {
     "name": "stdout",
     "output_type": "stream",
     "text": [
      "Model: \"sequential\"\n",
      "_________________________________________________________________\n",
      "Layer (type)                 Output Shape              Param #   \n",
      "=================================================================\n",
      "conv1d (Conv1D)              (None, 35, 32)            96        \n",
      "_________________________________________________________________\n",
      "flatten (Flatten)            (None, 1120)              0         \n",
      "_________________________________________________________________\n",
      "dense (Dense)                (None, 32)                35872     \n",
      "_________________________________________________________________\n",
      "dense_1 (Dense)              (None, 11)                363       \n",
      "=================================================================\n",
      "Total params: 36,331\n",
      "Trainable params: 36,331\n",
      "Non-trainable params: 0\n",
      "_________________________________________________________________\n",
      "None\n"
     ]
    }
   ],
   "source": [
    "model = Sequential()\n",
    "model.add(Conv1D(filters=32,\n",
    "                 kernel_size=2,\n",
    "                 activation='relu',\n",
    "                 input_shape=input_shape))\n",
    "model.add(Flatten())\n",
    "model.add(Dense(32, activation='relu'))\n",
    "model.add(Dense(num_classes, activation='softmax'))\n",
    "print(model.summary())"
   ]
  },
  {
   "cell_type": "markdown",
   "metadata": {},
   "source": [
    "## Fit DNN"
   ]
  },
  {
   "cell_type": "code",
   "execution_count": 17,
   "metadata": {},
   "outputs": [],
   "source": [
    "model.compile(optimizer='adam',\n",
    "              loss='categorical_crossentropy',\n",
    "              metrics=['accuracy'])"
   ]
  },
  {
   "cell_type": "code",
   "execution_count": 18,
   "metadata": {},
   "outputs": [],
   "source": [
    "early_stopping = tf.keras.callbacks.EarlyStopping(monitor='val_accuracy',\n",
    "                                                  min_delta=0.0001,\n",
    "                                                  patience=10,\n",
    "                                                  verbose=0,\n",
    "                                                  mode='auto',\n",
    "                                                  restore_best_weights=True)"
   ]
  },
  {
   "cell_type": "code",
   "execution_count": 19,
   "metadata": {},
   "outputs": [],
   "source": [
    "# hyperparameters\n",
    "BATCH_SIZE = 512\n",
    "EPOCHS = 50\n",
    "history = model.fit(X_train,\n",
    "                    y_train_hot,\n",
    "                    batch_size=BATCH_SIZE,\n",
    "                    epochs=EPOCHS,\n",
    "                    validation_data=(X_test, y_test_hot),\n",
    "                    callbacks=[early_stopping],\n",
    "                    verbose=0)"
   ]
  },
  {
   "cell_type": "markdown",
   "metadata": {},
   "source": [
    "## Plotting the Results"
   ]
  },
  {
   "cell_type": "code",
   "execution_count": 20,
   "metadata": {},
   "outputs": [
    {
     "data": {
      "image/png": "[encoded data removed]",
      "text/plain": [
       "<Figure size 720x720 with 1 Axes>"
      ]
     },
     "metadata": {},
     "output_type": "display_data"
    }
   ],
   "source": [
    "loss = history.history['loss']\n",
    "acc = history.history['accuracy']\n",
    "val_acc = history.history['val_accuracy']\n",
    "val_loss = history.history['val_loss']\n",
    "plt.figure(figsize=(10,10))\n",
    "plt.plot(acc, 'r', label='Accuracy of training data')\n",
    "plt.plot(loss, 'r--', label='Loss of training data')\n",
    "plt.plot(val_acc, 'b', label='Accuracy of validation data')\n",
    "plt.plot(val_loss, 'b--', label='Loss of validation data')\n",
    "plt.title('Model Accuracy and Loss')\n",
    "plt.ylabel('Accuracy and Loss')\n",
    "plt.xlabel('Training Epoch')\n",
    "plt.ylim(0)\n",
    "plt.legend()\n",
    "plt.show()"
   ]
  },
  {
   "cell_type": "markdown",
   "metadata": {},
   "source": [
    "## Check Against Test Data"
   ]
  },
  {
   "cell_type": "code",
   "execution_count": 21,
   "metadata": {},
   "outputs": [
    {
     "name": "stdout",
     "output_type": "stream",
     "text": [
      "Accuracy on test data: 61.0\n"
     ]
    }
   ],
   "source": [
    "score = model.evaluate(X_test, y_test_hot, verbose=0)\n",
    "print(f'Accuracy on test data: {score[1]*100:.1f}')"
   ]
  },
  {
   "cell_type": "code",
   "execution_count": 22,
   "metadata": {},
   "outputs": [
    {
     "name": "stdout",
     "output_type": "stream",
     "text": [
      "              precision    recall  f1-score   support\n",
      "\n",
      "         0.0       0.94      0.76      0.84       783\n",
      "         1.0       0.43      0.70      0.53      2989\n",
      "         2.0       0.42      0.26      0.32      3266\n",
      "         3.0       0.71      0.86      0.78      1888\n",
      "         4.0       0.66      0.63      0.64     13351\n",
      "         5.0       0.76      0.68      0.72      1777\n",
      "         6.0       0.36      0.39      0.38      1570\n",
      "         7.0       0.71      0.71      0.71      2376\n",
      "         8.0       0.41      0.41      0.41      1115\n",
      "         9.0       0.65      0.68      0.66      2499\n",
      "        10.0       0.73      0.64      0.68      2655\n",
      "\n",
      "    accuracy                           0.61     34269\n",
      "   macro avg       0.62      0.61      0.61     34269\n",
      "weighted avg       0.62      0.61      0.61     34269\n",
      "\n"
     ]
    }
   ],
   "source": [
    "# print confusion matrix for test data\n",
    "y_pred_test = model.predict(X_test)\n",
    "max_y_pred_test = np.argmax(y_pred_test, axis=1)\n",
    "print(classification_report(Y_test, max_y_pred_test))"
   ]
  },
  {
   "cell_type": "code",
   "execution_count": 23,
   "metadata": {},
   "outputs": [
    {
     "name": "stdout",
     "output_type": "stream",
     "text": [
      "MCC: 0.52\n"
     ]
    }
   ],
   "source": [
    "print(f'MCC: {matthews_corrcoef(Y_test, max_y_pred_test):.2f}')"
   ]
  }
 ],
 "metadata": {
  "kernelspec": {
   "display_name": "Python 3",
   "language": "python",
   "name": "python3"
  },
  "language_info": {
   "codemirror_mode": {
    "name": "ipython",
    "version": 3
   },
   "file_extension": ".py",
   "mimetype": "text/x-python",
   "name": "python",
   "nbconvert_exporter": "python",
   "pygments_lexer": "ipython3",
   "version": "3.8.2"
  }
 },
 "nbformat": 4,
 "nbformat_minor": 4
}
